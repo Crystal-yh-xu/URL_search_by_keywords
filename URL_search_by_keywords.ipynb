{
 "cells": [
  {
   "cell_type": "code",
   "execution_count": 1,
   "metadata": {},
   "outputs": [],
   "source": [
    "import requests\n",
    "from googlesearch import search\n",
    "from pandas import DataFrame\n",
    "from http import cookiejar\n",
    "\n",
    "# Change keywords, site_url and num_results as you need\n",
    "KEYWORDS = ['Baysol Snail'] # [Hortico, Rite Gro, Ratsak Attract, Eco naturelure, Ratsak Electronic Rat Trap, Zaleton, Zero Aqua, Pathweeder 500ml, Blitzem Wasp, Baysol 600g]\n",
    "SITE_URL = 'https://www.yates.com.au/'\n",
    "NUM_RESULTS = 50 # Number of result googlesearch returns\n",
    "\n",
    "def searchURL(keywords, site_url, num_results):\n",
    "    keyword_list = []\n",
    "    url_list = []\n",
    "\n",
    "    for keyword in keywords:\n",
    "        # Refresh cookies\n",
    "        googleTrendsUrl = 'https://google.com'\n",
    "        response = requests.get(googleTrendsUrl)\n",
    "        if response.status_code == 200:\n",
    "            g_cookies = response.cookies.get_dict()\n",
    "    \n",
    "        # Specify user-agent\n",
    "        headers = {'User-Agent': 'Mozilla/5.0 (Windows NT 6.2; Win64; x64) AppleWebKit/537.36 (KHTML, like Gecko) Chrome/75.0.3770.100 Safari/537.36'}\n",
    "        query = \"site:\" + site_url + \" '\" + keyword + \"'\"\n",
    "        url = 'https://www.google.com?q=' + query\n",
    "        # Make a request to the web page, and return the status code\n",
    "        res = requests.get(url, headers = headers, cookies = g_cookies)\n",
    "        # Get results for a search query\n",
    "        search_results = search(query, num_results)\n",
    "    \n",
    "        for result in search_results:\n",
    "            keyword_list.append(keyword)\n",
    "            url_list.append(result)\n",
    "    \n",
    "    return keyword_list, url_list\n",
    "\n",
    "def main():       \n",
    "    # Write to excel\n",
    "    keyword_list, url_list = searchURL(KEYWORDS, SITE_URL, NUM_RESULTS)\n",
    "    data = {\n",
    "        'Keywords': keyword_list,\n",
    "        'URL': url_list\n",
    "    }\n",
    "    df = DataFrame(data)\n",
    "    df.to_excel('Baysol_Snail.xlsx')\n",
    "    \n",
    "if __name__ == \"__main__\":\n",
    "    main()"
   ]
  }
 ],
 "metadata": {
  "kernelspec": {
   "display_name": "Python 3",
   "language": "python",
   "name": "python3"
  },
  "language_info": {
   "codemirror_mode": {
    "name": "ipython",
    "version": 3
   },
   "file_extension": ".py",
   "mimetype": "text/x-python",
   "name": "python",
   "nbconvert_exporter": "python",
   "pygments_lexer": "ipython3",
   "version": "3.7.6"
  }
 },
 "nbformat": 4,
 "nbformat_minor": 4
}
